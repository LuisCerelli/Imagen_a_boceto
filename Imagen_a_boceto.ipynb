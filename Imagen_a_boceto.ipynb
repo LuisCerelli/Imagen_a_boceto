{
 "cells": [
  {
   "cell_type": "code",
   "execution_count": 3,
   "metadata": {},
   "outputs": [],
   "source": [
    "import cv2\n",
    "\n",
    "# Cargar la imagen\n",
    "image_path = '/Users/luisalbertocerelli/Desktop/00-Todo/00-Practicas_Data_Engineer/02_Imagen_a_boceto/datasets 2/dog.jpg'\n",
    "image = cv2.imread(image_path)\n",
    "\n",
    "# Convertir la imagen RGB a escala de grises\n",
    "gray_image = cv2.cvtColor(image, cv2.COLOR_BGR2GRAY)\n",
    "\n",
    "# Invertir la imagen en escala de grises\n",
    "inverted_image = cv2.bitwise_not(gray_image)\n",
    "\n",
    "# Aplicar desenfoque gaussiano a la imagen invertida\n",
    "blurred = cv2.GaussianBlur(inverted_image, (21, 21), 0)\n",
    "\n",
    "# Invertir la imagen desenfocada\n",
    "inverted_blurred = cv2.bitwise_not(blurred)\n",
    "\n",
    "# Crear el boceto a lápiz dividiendo la imagen en escala de grises por la imagen desenfocada invertida\n",
    "pencil_sketch = cv2.divide(gray_image, inverted_blurred, scale=256.0)\n",
    "\n",
    "# Guardar el resultado\n",
    "cv2.imwrite('/Users/luisalbertocerelli/Desktop/00-Todo/00-Practicas_Data_Engineer/02_Imagen_a_boceto/imagen_final/dog_pencil.jpg', pencil_sketch)\n",
    "\n",
    "# Mostrar el boceto (opcional)\n",
    "cv2.imshow(\"Pencil Sketch\", pencil_sketch)\n",
    "cv2.waitKey(1)\n",
    "cv2.destroyAllWindows()\n"
   ]
  }
 ],
 "metadata": {
  "kernelspec": {
   "display_name": "Python 3",
   "language": "python",
   "name": "python3"
  },
  "language_info": {
   "codemirror_mode": {
    "name": "ipython",
    "version": 3
   },
   "file_extension": ".py",
   "mimetype": "text/x-python",
   "name": "python",
   "nbconvert_exporter": "python",
   "pygments_lexer": "ipython3",
   "version": "3.12.3"
  }
 },
 "nbformat": 4,
 "nbformat_minor": 2
}
